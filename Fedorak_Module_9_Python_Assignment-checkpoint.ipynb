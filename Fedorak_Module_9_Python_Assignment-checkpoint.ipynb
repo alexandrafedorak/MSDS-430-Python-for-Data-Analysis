{
 "cells": [
  {
   "cell_type": "markdown",
   "metadata": {},
   "source": [
    "# MSDS 430 Module 9 Python Assignment "
   ]
  },
  {
   "cell_type": "markdown",
   "metadata": {},
   "source": [
    "<div class=\"alert alert-block alert-warning\"><b>\n",
    "This is a cumulative assignment that will put to use many of the Python skills you have learned this quarter. You will not be provided with TODO statements to guide you in completing each problem as was done with previous assignments. The intent is that you draw upon your knowledge from the course and complete each problem on your own without specific guidance on intermediate steps.\n",
    "    \n",
    "</b>\n",
    "</div>"
   ]
  },
  {
   "cell_type": "code",
   "execution_count": 1,
   "metadata": {},
   "outputs": [],
   "source": [
    "# https://www.maritime.dot.gov/data-reports/data-statistics/us-waterborne-foreign-container-trade-us-customs-ports-2000-%E2%80%93-2017"
   ]
  },
  {
   "attachments": {
    "image.png": {
     "image/png": "[encoded data removed]"
    }
   },
   "cell_type": "markdown",
   "metadata": {},
   "source": [
    "![image.png](attachment:image.png)"
   ]
  },
  {
   "cell_type": "code",
   "execution_count": 1,
   "metadata": {},
   "outputs": [],
   "source": [
    "# load libraries\n",
    "import pandas as pd\n",
    "import numpy as np\n",
    " \n",
    "# set output for zero decimals places and commas to denote thousands\n",
    "pd.options.display.float_format = '{:,.2f}'.format\n",
    "\n",
    "# allow multiple output in one cell window\n",
    "from IPython.core.interactiveshell import InteractiveShell\n",
    "InteractiveShell.ast_node_interactivity = \"all\""
   ]
  },
  {
   "cell_type": "markdown",
   "metadata": {},
   "source": [
    "<div class=\"alert alert-block alert-success\">\n",
    "<b> Problem 1: (3 points) </b> In Module 4 you learned how to use Pandas to read in different file types. Use Pandas to read the <mark>Import and Export tons.csv</mark> file provided into a dataframe called <mark>df</mark>. <br>\n",
    "\n",
    "1. Read in the file.<br>\n",
    "2. Display the columns in the file and the number of records.<br>\n",
    "3. Display the first 10 records of your dataframe.\n",
    "\n",
    "</div>"
   ]
  },
  {
   "cell_type": "code",
   "execution_count": 2,
   "metadata": {},
   "outputs": [
    {
     "data": {
      "text/plain": [
       "5"
      ]
     },
     "execution_count": 2,
     "metadata": {},
     "output_type": "execute_result"
    },
    {
     "data": {
      "text/plain": [
       "<bound method DataFrame.info of         U.S. Custom Ports Coast  Year  ImportTons  ExportTons\n",
       "0            Aberdeen, WA     P  2000        0.00        0.00\n",
       "1           Anacortes, WA     P  2000        0.00        0.00\n",
       "2           Anchorage, AK    AK  2000        0.00   11,414.60\n",
       "3           Baltimore, MD     A  2000  172,563.87  103,391.30\n",
       "4         Baton Rouge, LA     G  2000        1.50        0.00\n",
       "...                   ...   ...   ...         ...         ...\n",
       "1129            Tampa, FL     G  2017   36,131.48    8,892.75\n",
       "1130        Vancouver, WA     P  2017      914.34        0.00\n",
       "1131  West Palm Beach, FL     A  2017   29,075.90  135,279.24\n",
       "1132       Wilmington, DE     A  2017  172,646.80   24,441.80\n",
       "1133       Wilmington, NC     A  2017   75,614.11  103,527.15\n",
       "\n",
       "[1134 rows x 5 columns]>"
      ]
     },
     "execution_count": 2,
     "metadata": {},
     "output_type": "execute_result"
    },
    {
     "data": {
      "text/html": [
       "<div>\n",
       "<style scoped>\n",
       "    .dataframe tbody tr th:only-of-type {\n",
       "        vertical-align: middle;\n",
       "    }\n",
       "\n",
       "    .dataframe tbody tr th {\n",
       "        vertical-align: top;\n",
       "    }\n",
       "\n",
       "    .dataframe thead th {\n",
       "        text-align: right;\n",
       "    }\n",
       "</style>\n",
       "<table border=\"1\" class=\"dataframe\">\n",
       "  <thead>\n",
       "    <tr style=\"text-align: right;\">\n",
       "      <th></th>\n",
       "      <th>U.S. Custom Ports</th>\n",
       "      <th>Coast</th>\n",
       "      <th>Year</th>\n",
       "      <th>ImportTons</th>\n",
       "      <th>ExportTons</th>\n",
       "    </tr>\n",
       "  </thead>\n",
       "  <tbody>\n",
       "    <tr>\n",
       "      <th>0</th>\n",
       "      <td>Aberdeen, WA</td>\n",
       "      <td>P</td>\n",
       "      <td>2000</td>\n",
       "      <td>0.00</td>\n",
       "      <td>0.00</td>\n",
       "    </tr>\n",
       "    <tr>\n",
       "      <th>1</th>\n",
       "      <td>Anacortes, WA</td>\n",
       "      <td>P</td>\n",
       "      <td>2000</td>\n",
       "      <td>0.00</td>\n",
       "      <td>0.00</td>\n",
       "    </tr>\n",
       "    <tr>\n",
       "      <th>2</th>\n",
       "      <td>Anchorage, AK</td>\n",
       "      <td>AK</td>\n",
       "      <td>2000</td>\n",
       "      <td>0.00</td>\n",
       "      <td>11,414.60</td>\n",
       "    </tr>\n",
       "    <tr>\n",
       "      <th>3</th>\n",
       "      <td>Baltimore, MD</td>\n",
       "      <td>A</td>\n",
       "      <td>2000</td>\n",
       "      <td>172,563.87</td>\n",
       "      <td>103,391.30</td>\n",
       "    </tr>\n",
       "    <tr>\n",
       "      <th>4</th>\n",
       "      <td>Baton Rouge, LA</td>\n",
       "      <td>G</td>\n",
       "      <td>2000</td>\n",
       "      <td>1.50</td>\n",
       "      <td>0.00</td>\n",
       "    </tr>\n",
       "    <tr>\n",
       "      <th>5</th>\n",
       "      <td>Beaufort-Morehead City, NC</td>\n",
       "      <td>A</td>\n",
       "      <td>2000</td>\n",
       "      <td>0.00</td>\n",
       "      <td>26.07</td>\n",
       "    </tr>\n",
       "    <tr>\n",
       "      <th>6</th>\n",
       "      <td>Beaumont, TX</td>\n",
       "      <td>G</td>\n",
       "      <td>2000</td>\n",
       "      <td>169.00</td>\n",
       "      <td>43.39</td>\n",
       "    </tr>\n",
       "    <tr>\n",
       "      <th>7</th>\n",
       "      <td>Boston, MA</td>\n",
       "      <td>A</td>\n",
       "      <td>2000</td>\n",
       "      <td>54,222.41</td>\n",
       "      <td>19,277.91</td>\n",
       "    </tr>\n",
       "    <tr>\n",
       "      <th>8</th>\n",
       "      <td>Brunswick, GA</td>\n",
       "      <td>A</td>\n",
       "      <td>2000</td>\n",
       "      <td>0.00</td>\n",
       "      <td>52.00</td>\n",
       "    </tr>\n",
       "    <tr>\n",
       "      <th>9</th>\n",
       "      <td>Camden, NJ</td>\n",
       "      <td>A</td>\n",
       "      <td>2000</td>\n",
       "      <td>298.23</td>\n",
       "      <td>6,247.76</td>\n",
       "    </tr>\n",
       "  </tbody>\n",
       "</table>\n",
       "</div>"
      ],
      "text/plain": [
       "            U.S. Custom Ports Coast  Year  ImportTons  ExportTons\n",
       "0                Aberdeen, WA     P  2000        0.00        0.00\n",
       "1               Anacortes, WA     P  2000        0.00        0.00\n",
       "2               Anchorage, AK    AK  2000        0.00   11,414.60\n",
       "3               Baltimore, MD     A  2000  172,563.87  103,391.30\n",
       "4             Baton Rouge, LA     G  2000        1.50        0.00\n",
       "5  Beaufort-Morehead City, NC     A  2000        0.00       26.07\n",
       "6                Beaumont, TX     G  2000      169.00       43.39\n",
       "7                  Boston, MA     A  2000   54,222.41   19,277.91\n",
       "8               Brunswick, GA     A  2000        0.00       52.00\n",
       "9                  Camden, NJ     A  2000      298.23    6,247.76"
      ]
     },
     "execution_count": 2,
     "metadata": {},
     "output_type": "execute_result"
    }
   ],
   "source": [
    "df = pd.read_csv('Import and Export tons.csv')\n",
    "len(df.columns)\n",
    "df.info  # this shows  there are 1133 rows, and thus 1133 records\n",
    "df.head(10)"
   ]
  },
  {
   "cell_type": "markdown",
   "metadata": {},
   "source": [
    "<div class=\"alert alert-block alert-success\">\n",
    "    <b> Problem 2: (5 points) </b> In module 5 you learned how to inspect fields within a dataframe. Use five separate cells to inspect each field in <mark>df</mark> so that you can become familiar with the data in each.\n",
    "</div>"
   ]
  },
  {
   "cell_type": "code",
   "execution_count": 3,
   "metadata": {},
   "outputs": [
    {
     "name": "stdout",
     "output_type": "stream",
     "text": [
      "<class 'pandas.core.series.Series'>\n",
      "RangeIndex: 1134 entries, 0 to 1133\n",
      "Series name: U.S. Custom Ports\n",
      "Non-Null Count  Dtype \n",
      "--------------  ----- \n",
      "1134 non-null   object\n",
      "dtypes: object(1)\n",
      "memory usage: 9.0+ KB\n"
     ]
    },
    {
     "data": {
      "text/plain": [
       "0       Aberdeen, WA\n",
       "1      Anacortes, WA\n",
       "2      Anchorage, AK\n",
       "3      Baltimore, MD\n",
       "4    Baton Rouge, LA\n",
       "Name: U.S. Custom Ports, dtype: object"
      ]
     },
     "execution_count": 3,
     "metadata": {},
     "output_type": "execute_result"
    },
    {
     "data": {
      "text/plain": [
       "1129              Tampa, FL\n",
       "1130          Vancouver, WA\n",
       "1131    West Palm Beach, FL\n",
       "1132         Wilmington, DE\n",
       "1133         Wilmington, NC\n",
       "Name: U.S. Custom Ports, dtype: object"
      ]
     },
     "execution_count": 3,
     "metadata": {},
     "output_type": "execute_result"
    },
    {
     "data": {
      "text/plain": [
       "count             1134\n",
       "unique              63\n",
       "top       Aberdeen, WA\n",
       "freq                18\n",
       "Name: U.S. Custom Ports, dtype: object"
      ]
     },
     "execution_count": 3,
     "metadata": {},
     "output_type": "execute_result"
    }
   ],
   "source": [
    "column1 = df['U.S. Custom Ports']\n",
    "column1.info()\n",
    "column1.head()\n",
    "column1.tail()\n",
    "column1.describe()"
   ]
  },
  {
   "cell_type": "code",
   "execution_count": 4,
   "metadata": {},
   "outputs": [
    {
     "name": "stdout",
     "output_type": "stream",
     "text": [
      "<class 'pandas.core.series.Series'>\n",
      "RangeIndex: 1134 entries, 0 to 1133\n",
      "Series name: Coast\n",
      "Non-Null Count  Dtype \n",
      "--------------  ----- \n",
      "1134 non-null   object\n",
      "dtypes: object(1)\n",
      "memory usage: 9.0+ KB\n"
     ]
    },
    {
     "data": {
      "text/plain": [
       "0     P\n",
       "1     P\n",
       "2    AK\n",
       "3     A\n",
       "4     G\n",
       "Name: Coast, dtype: object"
      ]
     },
     "execution_count": 4,
     "metadata": {},
     "output_type": "execute_result"
    },
    {
     "data": {
      "text/plain": [
       "1129    G\n",
       "1130    P\n",
       "1131    A\n",
       "1132    A\n",
       "1133    A\n",
       "Name: Coast, dtype: object"
      ]
     },
     "execution_count": 4,
     "metadata": {},
     "output_type": "execute_result"
    },
    {
     "data": {
      "text/plain": [
       "count     1134\n",
       "unique       6\n",
       "top          A\n",
       "freq       468\n",
       "Name: Coast, dtype: object"
      ]
     },
     "execution_count": 4,
     "metadata": {},
     "output_type": "execute_result"
    }
   ],
   "source": [
    "column2 = df['Coast']\n",
    "column2.info()\n",
    "column2.head()\n",
    "column2.tail()\n",
    "column2.describe()"
   ]
  },
  {
   "cell_type": "code",
   "execution_count": 5,
   "metadata": {},
   "outputs": [
    {
     "name": "stdout",
     "output_type": "stream",
     "text": [
      "<class 'pandas.core.series.Series'>\n",
      "RangeIndex: 1134 entries, 0 to 1133\n",
      "Series name: Year\n",
      "Non-Null Count  Dtype\n",
      "--------------  -----\n",
      "1134 non-null   int64\n",
      "dtypes: int64(1)\n",
      "memory usage: 9.0 KB\n"
     ]
    },
    {
     "data": {
      "text/plain": [
       "0    2000\n",
       "1    2000\n",
       "2    2000\n",
       "3    2000\n",
       "4    2000\n",
       "Name: Year, dtype: int64"
      ]
     },
     "execution_count": 5,
     "metadata": {},
     "output_type": "execute_result"
    },
    {
     "data": {
      "text/plain": [
       "1129    2017\n",
       "1130    2017\n",
       "1131    2017\n",
       "1132    2017\n",
       "1133    2017\n",
       "Name: Year, dtype: int64"
      ]
     },
     "execution_count": 5,
     "metadata": {},
     "output_type": "execute_result"
    },
    {
     "data": {
      "text/plain": [
       "count   1,134.00\n",
       "mean    2,008.50\n",
       "std         5.19\n",
       "min     2,000.00\n",
       "25%     2,004.00\n",
       "50%     2,008.50\n",
       "75%     2,013.00\n",
       "max     2,017.00\n",
       "Name: Year, dtype: float64"
      ]
     },
     "execution_count": 5,
     "metadata": {},
     "output_type": "execute_result"
    }
   ],
   "source": [
    "column3 = df['Year']\n",
    "column3.info()\n",
    "column3.head()\n",
    "column3.tail()\n",
    "column3.describe()"
   ]
  },
  {
   "cell_type": "code",
   "execution_count": 6,
   "metadata": {},
   "outputs": [
    {
     "name": "stdout",
     "output_type": "stream",
     "text": [
      "<class 'pandas.core.series.Series'>\n",
      "RangeIndex: 1134 entries, 0 to 1133\n",
      "Series name: ImportTons\n",
      "Non-Null Count  Dtype  \n",
      "--------------  -----  \n",
      "1134 non-null   float64\n",
      "dtypes: float64(1)\n",
      "memory usage: 9.0 KB\n"
     ]
    },
    {
     "data": {
      "text/plain": [
       "0         0.00\n",
       "1         0.00\n",
       "2         0.00\n",
       "3   172,563.87\n",
       "4         1.50\n",
       "Name: ImportTons, dtype: float64"
      ]
     },
     "execution_count": 6,
     "metadata": {},
     "output_type": "execute_result"
    },
    {
     "data": {
      "text/plain": [
       "1129    36,131.48\n",
       "1130       914.34\n",
       "1131    29,075.90\n",
       "1132   172,646.80\n",
       "1133    75,614.11\n",
       "Name: ImportTons, dtype: float64"
      ]
     },
     "execution_count": 6,
     "metadata": {},
     "output_type": "execute_result"
    },
    {
     "data": {
      "text/plain": [
       "count       1,134.00\n",
       "mean      267,200.63\n",
       "std       709,684.77\n",
       "min             0.00\n",
       "25%            53.76\n",
       "50%        12,109.04\n",
       "75%       120,907.93\n",
       "max     4,590,451.38\n",
       "Name: ImportTons, dtype: float64"
      ]
     },
     "execution_count": 6,
     "metadata": {},
     "output_type": "execute_result"
    }
   ],
   "source": [
    "column4 = df['ImportTons']\n",
    "column4.info()\n",
    "column4.head()\n",
    "column4.tail()\n",
    "column4.describe()"
   ]
  },
  {
   "cell_type": "code",
   "execution_count": 7,
   "metadata": {},
   "outputs": [
    {
     "name": "stdout",
     "output_type": "stream",
     "text": [
      "<class 'pandas.core.series.Series'>\n",
      "RangeIndex: 1134 entries, 0 to 1133\n",
      "Series name: ExportTons\n",
      "Non-Null Count  Dtype  \n",
      "--------------  -----  \n",
      "1134 non-null   float64\n",
      "dtypes: float64(1)\n",
      "memory usage: 9.0 KB\n"
     ]
    },
    {
     "data": {
      "text/plain": [
       "0         0.00\n",
       "1         0.00\n",
       "2    11,414.60\n",
       "3   103,391.30\n",
       "4         0.00\n",
       "Name: ExportTons, dtype: float64"
      ]
     },
     "execution_count": 7,
     "metadata": {},
     "output_type": "execute_result"
    },
    {
     "data": {
      "text/plain": [
       "1129     8,892.75\n",
       "1130         0.00\n",
       "1131   135,279.24\n",
       "1132    24,441.80\n",
       "1133   103,527.15\n",
       "Name: ExportTons, dtype: float64"
      ]
     },
     "execution_count": 7,
     "metadata": {},
     "output_type": "execute_result"
    },
    {
     "data": {
      "text/plain": [
       "count       1,134.00\n",
       "mean      161,377.06\n",
       "std       332,080.20\n",
       "min             0.00\n",
       "25%            35.06\n",
       "50%         7,782.75\n",
       "75%       103,493.19\n",
       "max     1,953,606.60\n",
       "Name: ExportTons, dtype: float64"
      ]
     },
     "execution_count": 7,
     "metadata": {},
     "output_type": "execute_result"
    }
   ],
   "source": [
    "column5 = df['ExportTons']\n",
    "column5.info()\n",
    "column5.head()\n",
    "column5.tail()\n",
    "column5.describe()"
   ]
  },
  {
   "cell_type": "markdown",
   "metadata": {},
   "source": [
    "<div class=\"alert alert-block alert-success\">\n",
    "    <b> Problem 3: (3 points) </b> In Module 5, you learned how to use a dictionary and an iterator to create a new column. As you look at the values in the dataframe, the <b>Coast</b> column contains abbreviations so let's create a data dictionary using the abbreviations as keys and the full names as values. After creating this dictionary, use it to add a new column in the <b>df</b> dataframe called <b>CoastName</b>.<br>\n",
    "    \n",
    "The abbreviations have the following meanings: P is Pacfic, A is Atlantic, G is Gulf, AK is Alaska, HI is Hawaii and PR is Puerto Rico. <br>\n",
    " \n",
    "Demonstrate that the new column has been added by displaying the first five rows of <b>df</b>.\n",
    "</div>"
   ]
  },
  {
   "cell_type": "code",
   "execution_count": 9,
   "metadata": {},
   "outputs": [
    {
     "data": {
      "text/html": [
       "<div>\n",
       "<style scoped>\n",
       "    .dataframe tbody tr th:only-of-type {\n",
       "        vertical-align: middle;\n",
       "    }\n",
       "\n",
       "    .dataframe tbody tr th {\n",
       "        vertical-align: top;\n",
       "    }\n",
       "\n",
       "    .dataframe thead th {\n",
       "        text-align: right;\n",
       "    }\n",
       "</style>\n",
       "<table border=\"1\" class=\"dataframe\">\n",
       "  <thead>\n",
       "    <tr style=\"text-align: right;\">\n",
       "      <th></th>\n",
       "      <th>U.S. Custom Ports</th>\n",
       "      <th>Coast</th>\n",
       "      <th>Year</th>\n",
       "      <th>ImportTons</th>\n",
       "      <th>ExportTons</th>\n",
       "      <th>CoastName</th>\n",
       "    </tr>\n",
       "  </thead>\n",
       "  <tbody>\n",
       "    <tr>\n",
       "      <th>0</th>\n",
       "      <td>Aberdeen, WA</td>\n",
       "      <td>P</td>\n",
       "      <td>2000</td>\n",
       "      <td>0.00</td>\n",
       "      <td>0.00</td>\n",
       "      <td>Pacific</td>\n",
       "    </tr>\n",
       "    <tr>\n",
       "      <th>1</th>\n",
       "      <td>Anacortes, WA</td>\n",
       "      <td>P</td>\n",
       "      <td>2000</td>\n",
       "      <td>0.00</td>\n",
       "      <td>0.00</td>\n",
       "      <td>Pacific</td>\n",
       "    </tr>\n",
       "    <tr>\n",
       "      <th>2</th>\n",
       "      <td>Anchorage, AK</td>\n",
       "      <td>AK</td>\n",
       "      <td>2000</td>\n",
       "      <td>0.00</td>\n",
       "      <td>11,414.60</td>\n",
       "      <td>Alaska</td>\n",
       "    </tr>\n",
       "    <tr>\n",
       "      <th>3</th>\n",
       "      <td>Baltimore, MD</td>\n",
       "      <td>A</td>\n",
       "      <td>2000</td>\n",
       "      <td>172,563.87</td>\n",
       "      <td>103,391.30</td>\n",
       "      <td>Atlantic</td>\n",
       "    </tr>\n",
       "    <tr>\n",
       "      <th>4</th>\n",
       "      <td>Baton Rouge, LA</td>\n",
       "      <td>G</td>\n",
       "      <td>2000</td>\n",
       "      <td>1.50</td>\n",
       "      <td>0.00</td>\n",
       "      <td>Gulf</td>\n",
       "    </tr>\n",
       "  </tbody>\n",
       "</table>\n",
       "</div>"
      ],
      "text/plain": [
       "  U.S. Custom Ports Coast  Year  ImportTons  ExportTons CoastName\n",
       "0      Aberdeen, WA     P  2000        0.00        0.00   Pacific\n",
       "1     Anacortes, WA     P  2000        0.00        0.00   Pacific\n",
       "2     Anchorage, AK    AK  2000        0.00   11,414.60    Alaska\n",
       "3     Baltimore, MD     A  2000  172,563.87  103,391.30  Atlantic\n",
       "4   Baton Rouge, LA     G  2000        1.50        0.00      Gulf"
      ]
     },
     "execution_count": 9,
     "metadata": {},
     "output_type": "execute_result"
    }
   ],
   "source": [
    "CoastName = {\"P\": \"Pacific\", \"A\": \"Atlantic\", \"G\": \"Gulf\", \"AK\": \"Alaska\", \"HI\": \"Hawaii\", \"PR\": \"Puerto Rico\"}\n",
    "\n",
    "df['CoastName'] = df['Coast'].map(CoastName)\n",
    "df.head()"
   ]
  },
  {
   "cell_type": "markdown",
   "metadata": {},
   "source": [
    "<div class=\"alert alert-block alert-success\">\n",
    "<b> Problem 4: (2 points) </b> In Module 6 you learned how to drop a column from a dataframe. We no longer need the column called <i><b>Coast</b></i>, so drop it.  Demonstrate that your dataframe no longer has this column by displaying the first 5 rows.\n",
    "</div>"
   ]
  },
  {
   "cell_type": "code",
   "execution_count": 10,
   "metadata": {},
   "outputs": [
    {
     "data": {
      "text/html": [
       "<div>\n",
       "<style scoped>\n",
       "    .dataframe tbody tr th:only-of-type {\n",
       "        vertical-align: middle;\n",
       "    }\n",
       "\n",
       "    .dataframe tbody tr th {\n",
       "        vertical-align: top;\n",
       "    }\n",
       "\n",
       "    .dataframe thead th {\n",
       "        text-align: right;\n",
       "    }\n",
       "</style>\n",
       "<table border=\"1\" class=\"dataframe\">\n",
       "  <thead>\n",
       "    <tr style=\"text-align: right;\">\n",
       "      <th></th>\n",
       "      <th>U.S. Custom Ports</th>\n",
       "      <th>Year</th>\n",
       "      <th>ImportTons</th>\n",
       "      <th>ExportTons</th>\n",
       "      <th>CoastName</th>\n",
       "    </tr>\n",
       "  </thead>\n",
       "  <tbody>\n",
       "    <tr>\n",
       "      <th>0</th>\n",
       "      <td>Aberdeen, WA</td>\n",
       "      <td>2000</td>\n",
       "      <td>0.00</td>\n",
       "      <td>0.00</td>\n",
       "      <td>Pacific</td>\n",
       "    </tr>\n",
       "    <tr>\n",
       "      <th>1</th>\n",
       "      <td>Anacortes, WA</td>\n",
       "      <td>2000</td>\n",
       "      <td>0.00</td>\n",
       "      <td>0.00</td>\n",
       "      <td>Pacific</td>\n",
       "    </tr>\n",
       "    <tr>\n",
       "      <th>2</th>\n",
       "      <td>Anchorage, AK</td>\n",
       "      <td>2000</td>\n",
       "      <td>0.00</td>\n",
       "      <td>11,414.60</td>\n",
       "      <td>Alaska</td>\n",
       "    </tr>\n",
       "    <tr>\n",
       "      <th>3</th>\n",
       "      <td>Baltimore, MD</td>\n",
       "      <td>2000</td>\n",
       "      <td>172,563.87</td>\n",
       "      <td>103,391.30</td>\n",
       "      <td>Atlantic</td>\n",
       "    </tr>\n",
       "    <tr>\n",
       "      <th>4</th>\n",
       "      <td>Baton Rouge, LA</td>\n",
       "      <td>2000</td>\n",
       "      <td>1.50</td>\n",
       "      <td>0.00</td>\n",
       "      <td>Gulf</td>\n",
       "    </tr>\n",
       "  </tbody>\n",
       "</table>\n",
       "</div>"
      ],
      "text/plain": [
       "  U.S. Custom Ports  Year  ImportTons  ExportTons CoastName\n",
       "0      Aberdeen, WA  2000        0.00        0.00   Pacific\n",
       "1     Anacortes, WA  2000        0.00        0.00   Pacific\n",
       "2     Anchorage, AK  2000        0.00   11,414.60    Alaska\n",
       "3     Baltimore, MD  2000  172,563.87  103,391.30  Atlantic\n",
       "4   Baton Rouge, LA  2000        1.50        0.00      Gulf"
      ]
     },
     "execution_count": 10,
     "metadata": {},
     "output_type": "execute_result"
    }
   ],
   "source": [
    "df.drop('Coast', axis = 1, inplace = True)\n",
    "df.head()"
   ]
  },
  {
   "cell_type": "markdown",
   "metadata": {},
   "source": [
    "<div class=\"alert alert-block alert-success\">\n",
    "<b> Problem 5: (4 points) </b> In Module 4 you learned about string manipulation.  You may need to do some further research, but the use of <mark>.slice</mark> and <mark>.split</mark> could be useful in this next answer.\n",
    "    \n",
    "Create two new columns in the <b>df</b> dataframe - from the U.S. Custom Ports column - create a <b>City</b> and a <b>State</b> column. It is okay to leave the State in the two letter abbreviation format. Neither the <b>City</b> nor the <b>State</b> should contain the comma from the U.S. Custom Ports field.<br>\n",
    "    \n",
    "Show your new columns by displaying the first five records of <b>df</b>.\n",
    "</div>"
   ]
  },
  {
   "cell_type": "code",
   "execution_count": 12,
   "metadata": {},
   "outputs": [
    {
     "data": {
      "text/html": [
       "<div>\n",
       "<style scoped>\n",
       "    .dataframe tbody tr th:only-of-type {\n",
       "        vertical-align: middle;\n",
       "    }\n",
       "\n",
       "    .dataframe tbody tr th {\n",
       "        vertical-align: top;\n",
       "    }\n",
       "\n",
       "    .dataframe thead th {\n",
       "        text-align: right;\n",
       "    }\n",
       "</style>\n",
       "<table border=\"1\" class=\"dataframe\">\n",
       "  <thead>\n",
       "    <tr style=\"text-align: right;\">\n",
       "      <th></th>\n",
       "      <th>U.S. Custom Ports</th>\n",
       "      <th>Year</th>\n",
       "      <th>ImportTons</th>\n",
       "      <th>ExportTons</th>\n",
       "      <th>CoastName</th>\n",
       "      <th>City</th>\n",
       "      <th>State</th>\n",
       "    </tr>\n",
       "  </thead>\n",
       "  <tbody>\n",
       "    <tr>\n",
       "      <th>0</th>\n",
       "      <td>Aberdeen, WA</td>\n",
       "      <td>2000</td>\n",
       "      <td>0.00</td>\n",
       "      <td>0.00</td>\n",
       "      <td>Pacific</td>\n",
       "      <td>Aberdeen</td>\n",
       "      <td>WA</td>\n",
       "    </tr>\n",
       "    <tr>\n",
       "      <th>1</th>\n",
       "      <td>Anacortes, WA</td>\n",
       "      <td>2000</td>\n",
       "      <td>0.00</td>\n",
       "      <td>0.00</td>\n",
       "      <td>Pacific</td>\n",
       "      <td>Anacortes</td>\n",
       "      <td>WA</td>\n",
       "    </tr>\n",
       "    <tr>\n",
       "      <th>2</th>\n",
       "      <td>Anchorage, AK</td>\n",
       "      <td>2000</td>\n",
       "      <td>0.00</td>\n",
       "      <td>11,414.60</td>\n",
       "      <td>Alaska</td>\n",
       "      <td>Anchorage</td>\n",
       "      <td>AK</td>\n",
       "    </tr>\n",
       "    <tr>\n",
       "      <th>3</th>\n",
       "      <td>Baltimore, MD</td>\n",
       "      <td>2000</td>\n",
       "      <td>172,563.87</td>\n",
       "      <td>103,391.30</td>\n",
       "      <td>Atlantic</td>\n",
       "      <td>Baltimore</td>\n",
       "      <td>MD</td>\n",
       "    </tr>\n",
       "    <tr>\n",
       "      <th>4</th>\n",
       "      <td>Baton Rouge, LA</td>\n",
       "      <td>2000</td>\n",
       "      <td>1.50</td>\n",
       "      <td>0.00</td>\n",
       "      <td>Gulf</td>\n",
       "      <td>Baton Rouge</td>\n",
       "      <td>LA</td>\n",
       "    </tr>\n",
       "  </tbody>\n",
       "</table>\n",
       "</div>"
      ],
      "text/plain": [
       "  U.S. Custom Ports  Year  ImportTons  ExportTons CoastName         City State\n",
       "0      Aberdeen, WA  2000        0.00        0.00   Pacific     Aberdeen    WA\n",
       "1     Anacortes, WA  2000        0.00        0.00   Pacific    Anacortes    WA\n",
       "2     Anchorage, AK  2000        0.00   11,414.60    Alaska    Anchorage    AK\n",
       "3     Baltimore, MD  2000  172,563.87  103,391.30  Atlantic    Baltimore    MD\n",
       "4   Baton Rouge, LA  2000        1.50        0.00      Gulf  Baton Rouge    LA"
      ]
     },
     "execution_count": 12,
     "metadata": {},
     "output_type": "execute_result"
    }
   ],
   "source": [
    "df[[\"City\",\"State\"]] = df[\"U.S. Custom Ports\"].str.split(\",\", expand = True)\n",
    "df.head()"
   ]
  },
  {
   "cell_type": "markdown",
   "metadata": {},
   "source": [
    "<div class=\"alert alert-block alert-success\">\n",
    "<b> Problem 6a: (2 points) </b> In Module 5 you learned how to create a subset of a dataframe and to show the top values of a column.  <br><br>\n",
    "    1. First create a new column in <b>df</b> called <b>`Difference`</b> that displays the difference in tons between imports and exports. Note that if a port had more imports than exports, the new Difference field will be positive. If the port had more export than imports, the new Difference field will be negative.<br>\n",
    "    2. Create a new dataframe called <b>year2017</b> that only contains the 2017 data from <b>df</b>.  Show the shape of your new dataframe. You will use this dataframe to answer 6b, 6c and 6d below.<br>\n",
    "\n",
    "</div>"
   ]
  },
  {
   "cell_type": "code",
   "execution_count": 19,
   "metadata": {},
   "outputs": [
    {
     "data": {
      "text/html": [
       "<div>\n",
       "<style scoped>\n",
       "    .dataframe tbody tr th:only-of-type {\n",
       "        vertical-align: middle;\n",
       "    }\n",
       "\n",
       "    .dataframe tbody tr th {\n",
       "        vertical-align: top;\n",
       "    }\n",
       "\n",
       "    .dataframe thead th {\n",
       "        text-align: right;\n",
       "    }\n",
       "</style>\n",
       "<table border=\"1\" class=\"dataframe\">\n",
       "  <thead>\n",
       "    <tr style=\"text-align: right;\">\n",
       "      <th></th>\n",
       "      <th>U.S. Custom Ports</th>\n",
       "      <th>Year</th>\n",
       "      <th>ImportTons</th>\n",
       "      <th>ExportTons</th>\n",
       "      <th>CoastName</th>\n",
       "      <th>City</th>\n",
       "      <th>State</th>\n",
       "      <th>Difference</th>\n",
       "    </tr>\n",
       "  </thead>\n",
       "  <tbody>\n",
       "    <tr>\n",
       "      <th>0</th>\n",
       "      <td>Aberdeen, WA</td>\n",
       "      <td>2000</td>\n",
       "      <td>0.00</td>\n",
       "      <td>0.00</td>\n",
       "      <td>Pacific</td>\n",
       "      <td>Aberdeen</td>\n",
       "      <td>WA</td>\n",
       "      <td>0.00</td>\n",
       "    </tr>\n",
       "    <tr>\n",
       "      <th>1</th>\n",
       "      <td>Anacortes, WA</td>\n",
       "      <td>2000</td>\n",
       "      <td>0.00</td>\n",
       "      <td>0.00</td>\n",
       "      <td>Pacific</td>\n",
       "      <td>Anacortes</td>\n",
       "      <td>WA</td>\n",
       "      <td>0.00</td>\n",
       "    </tr>\n",
       "    <tr>\n",
       "      <th>2</th>\n",
       "      <td>Anchorage, AK</td>\n",
       "      <td>2000</td>\n",
       "      <td>0.00</td>\n",
       "      <td>11,414.60</td>\n",
       "      <td>Alaska</td>\n",
       "      <td>Anchorage</td>\n",
       "      <td>AK</td>\n",
       "      <td>-11,414.60</td>\n",
       "    </tr>\n",
       "    <tr>\n",
       "      <th>3</th>\n",
       "      <td>Baltimore, MD</td>\n",
       "      <td>2000</td>\n",
       "      <td>172,563.87</td>\n",
       "      <td>103,391.30</td>\n",
       "      <td>Atlantic</td>\n",
       "      <td>Baltimore</td>\n",
       "      <td>MD</td>\n",
       "      <td>69,172.57</td>\n",
       "    </tr>\n",
       "    <tr>\n",
       "      <th>4</th>\n",
       "      <td>Baton Rouge, LA</td>\n",
       "      <td>2000</td>\n",
       "      <td>1.50</td>\n",
       "      <td>0.00</td>\n",
       "      <td>Gulf</td>\n",
       "      <td>Baton Rouge</td>\n",
       "      <td>LA</td>\n",
       "      <td>1.50</td>\n",
       "    </tr>\n",
       "    <tr>\n",
       "      <th>...</th>\n",
       "      <td>...</td>\n",
       "      <td>...</td>\n",
       "      <td>...</td>\n",
       "      <td>...</td>\n",
       "      <td>...</td>\n",
       "      <td>...</td>\n",
       "      <td>...</td>\n",
       "      <td>...</td>\n",
       "    </tr>\n",
       "    <tr>\n",
       "      <th>1129</th>\n",
       "      <td>Tampa, FL</td>\n",
       "      <td>2017</td>\n",
       "      <td>36,131.48</td>\n",
       "      <td>8,892.75</td>\n",
       "      <td>Gulf</td>\n",
       "      <td>Tampa</td>\n",
       "      <td>FL</td>\n",
       "      <td>27,238.73</td>\n",
       "    </tr>\n",
       "    <tr>\n",
       "      <th>1130</th>\n",
       "      <td>Vancouver, WA</td>\n",
       "      <td>2017</td>\n",
       "      <td>914.34</td>\n",
       "      <td>0.00</td>\n",
       "      <td>Pacific</td>\n",
       "      <td>Vancouver</td>\n",
       "      <td>WA</td>\n",
       "      <td>914.34</td>\n",
       "    </tr>\n",
       "    <tr>\n",
       "      <th>1131</th>\n",
       "      <td>West Palm Beach, FL</td>\n",
       "      <td>2017</td>\n",
       "      <td>29,075.90</td>\n",
       "      <td>135,279.24</td>\n",
       "      <td>Atlantic</td>\n",
       "      <td>West Palm Beach</td>\n",
       "      <td>FL</td>\n",
       "      <td>-106,203.34</td>\n",
       "    </tr>\n",
       "    <tr>\n",
       "      <th>1132</th>\n",
       "      <td>Wilmington, DE</td>\n",
       "      <td>2017</td>\n",
       "      <td>172,646.80</td>\n",
       "      <td>24,441.80</td>\n",
       "      <td>Atlantic</td>\n",
       "      <td>Wilmington</td>\n",
       "      <td>DE</td>\n",
       "      <td>148,205.00</td>\n",
       "    </tr>\n",
       "    <tr>\n",
       "      <th>1133</th>\n",
       "      <td>Wilmington, NC</td>\n",
       "      <td>2017</td>\n",
       "      <td>75,614.11</td>\n",
       "      <td>103,527.15</td>\n",
       "      <td>Atlantic</td>\n",
       "      <td>Wilmington</td>\n",
       "      <td>NC</td>\n",
       "      <td>-27,913.04</td>\n",
       "    </tr>\n",
       "  </tbody>\n",
       "</table>\n",
       "<p>1134 rows × 8 columns</p>\n",
       "</div>"
      ],
      "text/plain": [
       "        U.S. Custom Ports  Year  ImportTons  ExportTons CoastName  \\\n",
       "0            Aberdeen, WA  2000        0.00        0.00   Pacific   \n",
       "1           Anacortes, WA  2000        0.00        0.00   Pacific   \n",
       "2           Anchorage, AK  2000        0.00   11,414.60    Alaska   \n",
       "3           Baltimore, MD  2000  172,563.87  103,391.30  Atlantic   \n",
       "4         Baton Rouge, LA  2000        1.50        0.00      Gulf   \n",
       "...                   ...   ...         ...         ...       ...   \n",
       "1129            Tampa, FL  2017   36,131.48    8,892.75      Gulf   \n",
       "1130        Vancouver, WA  2017      914.34        0.00   Pacific   \n",
       "1131  West Palm Beach, FL  2017   29,075.90  135,279.24  Atlantic   \n",
       "1132       Wilmington, DE  2017  172,646.80   24,441.80  Atlantic   \n",
       "1133       Wilmington, NC  2017   75,614.11  103,527.15  Atlantic   \n",
       "\n",
       "                 City State  Difference  \n",
       "0            Aberdeen    WA        0.00  \n",
       "1           Anacortes    WA        0.00  \n",
       "2           Anchorage    AK  -11,414.60  \n",
       "3           Baltimore    MD   69,172.57  \n",
       "4         Baton Rouge    LA        1.50  \n",
       "...               ...   ...         ...  \n",
       "1129            Tampa    FL   27,238.73  \n",
       "1130        Vancouver    WA      914.34  \n",
       "1131  West Palm Beach    FL -106,203.34  \n",
       "1132       Wilmington    DE  148,205.00  \n",
       "1133       Wilmington    NC  -27,913.04  \n",
       "\n",
       "[1134 rows x 8 columns]"
      ]
     },
     "execution_count": 19,
     "metadata": {},
     "output_type": "execute_result"
    },
    {
     "data": {
      "text/plain": [
       "(63, 8)"
      ]
     },
     "execution_count": 19,
     "metadata": {},
     "output_type": "execute_result"
    }
   ],
   "source": [
    "df['Difference'] = df['ImportTons'] - df['ExportTons']\n",
    "df\n",
    "year2017 = df[df['Year'] == 2017]\n",
    "year2017.shape"
   ]
  },
  {
   "cell_type": "markdown",
   "metadata": {},
   "source": [
    "<div class=\"alert alert-block alert-success\">\n",
    "<b> Problem 6b: (1 point) </b>  Using the <b> year2017 </b> dataframe, show the top three Ports with the most ImportTons for 2017.<br>\n",
    "</div>"
   ]
  },
  {
   "cell_type": "code",
   "execution_count": 22,
   "metadata": {},
   "outputs": [
    {
     "data": {
      "text/html": [
       "<div>\n",
       "<style scoped>\n",
       "    .dataframe tbody tr th:only-of-type {\n",
       "        vertical-align: middle;\n",
       "    }\n",
       "\n",
       "    .dataframe tbody tr th {\n",
       "        vertical-align: top;\n",
       "    }\n",
       "\n",
       "    .dataframe thead th {\n",
       "        text-align: right;\n",
       "    }\n",
       "</style>\n",
       "<table border=\"1\" class=\"dataframe\">\n",
       "  <thead>\n",
       "    <tr style=\"text-align: right;\">\n",
       "      <th></th>\n",
       "      <th>U.S. Custom Ports</th>\n",
       "      <th>Year</th>\n",
       "      <th>ImportTons</th>\n",
       "      <th>ExportTons</th>\n",
       "      <th>CoastName</th>\n",
       "      <th>City</th>\n",
       "      <th>State</th>\n",
       "      <th>Difference</th>\n",
       "    </tr>\n",
       "  </thead>\n",
       "  <tbody>\n",
       "    <tr>\n",
       "      <th>1099</th>\n",
       "      <td>Los Angeles, CA</td>\n",
       "      <td>2017</td>\n",
       "      <td>4,590,451.38</td>\n",
       "      <td>1,598,709.61</td>\n",
       "      <td>Pacific</td>\n",
       "      <td>Los Angeles</td>\n",
       "      <td>CA</td>\n",
       "      <td>2,991,741.77</td>\n",
       "    </tr>\n",
       "    <tr>\n",
       "      <th>1097</th>\n",
       "      <td>Long Beach, CA</td>\n",
       "      <td>2017</td>\n",
       "      <td>3,792,165.13</td>\n",
       "      <td>1,217,324.94</td>\n",
       "      <td>Pacific</td>\n",
       "      <td>Long Beach</td>\n",
       "      <td>CA</td>\n",
       "      <td>2,574,840.19</td>\n",
       "    </tr>\n",
       "    <tr>\n",
       "      <th>1104</th>\n",
       "      <td>New York, NY</td>\n",
       "      <td>2017</td>\n",
       "      <td>3,402,439.97</td>\n",
       "      <td>1,364,838.82</td>\n",
       "      <td>Atlantic</td>\n",
       "      <td>New York</td>\n",
       "      <td>NY</td>\n",
       "      <td>2,037,601.15</td>\n",
       "    </tr>\n",
       "  </tbody>\n",
       "</table>\n",
       "</div>"
      ],
      "text/plain": [
       "     U.S. Custom Ports  Year   ImportTons   ExportTons CoastName         City  \\\n",
       "1099   Los Angeles, CA  2017 4,590,451.38 1,598,709.61   Pacific  Los Angeles   \n",
       "1097    Long Beach, CA  2017 3,792,165.13 1,217,324.94   Pacific   Long Beach   \n",
       "1104      New York, NY  2017 3,402,439.97 1,364,838.82  Atlantic     New York   \n",
       "\n",
       "     State   Difference  \n",
       "1099    CA 2,991,741.77  \n",
       "1097    CA 2,574,840.19  \n",
       "1104    NY 2,037,601.15  "
      ]
     },
     "execution_count": 22,
     "metadata": {},
     "output_type": "execute_result"
    }
   ],
   "source": [
    "top3 = year2017.sort_values(by='ImportTons', ascending = False)\n",
    "top3.head(3)"
   ]
  },
  {
   "cell_type": "markdown",
   "metadata": {},
   "source": [
    "<div class=\"alert alert-block alert-success\">\n",
    "<b> Problem 6c: (1 point) </b>  Using the <b> year2017 </b> dataframe, show the top five States with the most cumulated ExportTons for 2017.<br>\n",
    "\n",
    "</div>"
   ]
  },
  {
   "cell_type": "code",
   "execution_count": 27,
   "metadata": {},
   "outputs": [
    {
     "data": {
      "text/plain": [
       "[' CA', ' FL', ' NY', ' GA', ' TX']"
      ]
     },
     "execution_count": 27,
     "metadata": {},
     "output_type": "execute_result"
    }
   ],
   "source": [
    "import heapq\n",
    "from heapq import nlargest\n",
    "states = {}\n",
    "\n",
    "for index, row in year2017.iterrows():\n",
    "    if row['State'] in states:\n",
    "        states[row['State']] = states[row['State']] + row['ExportTons']\n",
    "    else:\n",
    "        states[row['State']] = row['ExportTons']\n",
    "        \n",
    "top5 = nlargest(5, states, key=states.get)\n",
    "top5"
   ]
  },
  {
   "cell_type": "markdown",
   "metadata": {},
   "source": [
    "<div class=\"alert alert-block alert-success\">\n",
    "<b> Problem 6d: (1 point) </b>  Using the Difference field from the <b> year2017 </b> dataframe, show which ports exported more than they imported.<br>\n",
    "\n",
    "</div>"
   ]
  },
  {
   "cell_type": "code",
   "execution_count": 38,
   "metadata": {},
   "outputs": [
    {
     "data": {
      "text/html": [
       "<div>\n",
       "<style scoped>\n",
       "    .dataframe tbody tr th:only-of-type {\n",
       "        vertical-align: middle;\n",
       "    }\n",
       "\n",
       "    .dataframe tbody tr th {\n",
       "        vertical-align: top;\n",
       "    }\n",
       "\n",
       "    .dataframe thead th {\n",
       "        text-align: right;\n",
       "    }\n",
       "</style>\n",
       "<table border=\"1\" class=\"dataframe\">\n",
       "  <thead>\n",
       "    <tr style=\"text-align: right;\">\n",
       "      <th></th>\n",
       "      <th>U.S. Custom Ports</th>\n",
       "      <th>Year</th>\n",
       "      <th>ImportTons</th>\n",
       "      <th>ExportTons</th>\n",
       "      <th>CoastName</th>\n",
       "      <th>City</th>\n",
       "      <th>State</th>\n",
       "      <th>Difference</th>\n",
       "    </tr>\n",
       "  </thead>\n",
       "  <tbody>\n",
       "    <tr>\n",
       "      <th>1103</th>\n",
       "      <td>New Orleans, LA</td>\n",
       "      <td>2017</td>\n",
       "      <td>109,999.90</td>\n",
       "      <td>296,438.87</td>\n",
       "      <td>Gulf</td>\n",
       "      <td>New Orleans</td>\n",
       "      <td>LA</td>\n",
       "      <td>-186,438.97</td>\n",
       "    </tr>\n",
       "    <tr>\n",
       "      <th>1094</th>\n",
       "      <td>Jacksonville, FL</td>\n",
       "      <td>2017</td>\n",
       "      <td>322,721.35</td>\n",
       "      <td>494,520.91</td>\n",
       "      <td>Atlantic</td>\n",
       "      <td>Jacksonville</td>\n",
       "      <td>FL</td>\n",
       "      <td>-171,799.56</td>\n",
       "    </tr>\n",
       "    <tr>\n",
       "      <th>1131</th>\n",
       "      <td>West Palm Beach, FL</td>\n",
       "      <td>2017</td>\n",
       "      <td>29,075.90</td>\n",
       "      <td>135,279.24</td>\n",
       "      <td>Atlantic</td>\n",
       "      <td>West Palm Beach</td>\n",
       "      <td>FL</td>\n",
       "      <td>-106,203.34</td>\n",
       "    </tr>\n",
       "    <tr>\n",
       "      <th>1116</th>\n",
       "      <td>Port Everglades, FL</td>\n",
       "      <td>2017</td>\n",
       "      <td>357,424.80</td>\n",
       "      <td>434,424.07</td>\n",
       "      <td>Atlantic</td>\n",
       "      <td>Port Everglades</td>\n",
       "      <td>FL</td>\n",
       "      <td>-76,999.27</td>\n",
       "    </tr>\n",
       "    <tr>\n",
       "      <th>1133</th>\n",
       "      <td>Wilmington, NC</td>\n",
       "      <td>2017</td>\n",
       "      <td>75,614.11</td>\n",
       "      <td>103,527.15</td>\n",
       "      <td>Atlantic</td>\n",
       "      <td>Wilmington</td>\n",
       "      <td>NC</td>\n",
       "      <td>-27,913.04</td>\n",
       "    </tr>\n",
       "    <tr>\n",
       "      <th>1110</th>\n",
       "      <td>Pensauken, NJ</td>\n",
       "      <td>2017</td>\n",
       "      <td>16,817.22</td>\n",
       "      <td>44,168.49</td>\n",
       "      <td>Atlantic</td>\n",
       "      <td>Pensauken</td>\n",
       "      <td>NJ</td>\n",
       "      <td>-27,351.27</td>\n",
       "    </tr>\n",
       "    <tr>\n",
       "      <th>1102</th>\n",
       "      <td>Mobile, AL</td>\n",
       "      <td>2017</td>\n",
       "      <td>118,097.04</td>\n",
       "      <td>132,477.64</td>\n",
       "      <td>Gulf</td>\n",
       "      <td>Mobile</td>\n",
       "      <td>AL</td>\n",
       "      <td>-14,380.60</td>\n",
       "    </tr>\n",
       "    <tr>\n",
       "      <th>1092</th>\n",
       "      <td>Honolulu, HI</td>\n",
       "      <td>2017</td>\n",
       "      <td>21,493.92</td>\n",
       "      <td>31,990.05</td>\n",
       "      <td>Hawaii</td>\n",
       "      <td>Honolulu</td>\n",
       "      <td>HI</td>\n",
       "      <td>-10,496.13</td>\n",
       "    </tr>\n",
       "    <tr>\n",
       "      <th>1085</th>\n",
       "      <td>Fernandina Beach, FL</td>\n",
       "      <td>2017</td>\n",
       "      <td>328.27</td>\n",
       "      <td>3,913.32</td>\n",
       "      <td>Atlantic</td>\n",
       "      <td>Fernandina Beach</td>\n",
       "      <td>FL</td>\n",
       "      <td>-3,585.05</td>\n",
       "    </tr>\n",
       "    <tr>\n",
       "      <th>1087</th>\n",
       "      <td>Freeport, TX</td>\n",
       "      <td>2017</td>\n",
       "      <td>31,140.59</td>\n",
       "      <td>33,848.46</td>\n",
       "      <td>Gulf</td>\n",
       "      <td>Freeport</td>\n",
       "      <td>TX</td>\n",
       "      <td>-2,707.87</td>\n",
       "    </tr>\n",
       "    <tr>\n",
       "      <th>1122</th>\n",
       "      <td>Salem, NJ</td>\n",
       "      <td>2017</td>\n",
       "      <td>286.95</td>\n",
       "      <td>1,393.88</td>\n",
       "      <td>Atlantic</td>\n",
       "      <td>Salem</td>\n",
       "      <td>NJ</td>\n",
       "      <td>-1,106.93</td>\n",
       "    </tr>\n",
       "    <tr>\n",
       "      <th>1095</th>\n",
       "      <td>Kodiak, AK</td>\n",
       "      <td>2017</td>\n",
       "      <td>0.00</td>\n",
       "      <td>1,002.00</td>\n",
       "      <td>Alaska</td>\n",
       "      <td>Kodiak</td>\n",
       "      <td>AK</td>\n",
       "      <td>-1,002.00</td>\n",
       "    </tr>\n",
       "    <tr>\n",
       "      <th>1105</th>\n",
       "      <td>Newport News, VA</td>\n",
       "      <td>2017</td>\n",
       "      <td>1,139.59</td>\n",
       "      <td>2,032.51</td>\n",
       "      <td>Atlantic</td>\n",
       "      <td>Newport News</td>\n",
       "      <td>VA</td>\n",
       "      <td>-892.92</td>\n",
       "    </tr>\n",
       "    <tr>\n",
       "      <th>1079</th>\n",
       "      <td>Brunswick, GA</td>\n",
       "      <td>2017</td>\n",
       "      <td>0.00</td>\n",
       "      <td>684.87</td>\n",
       "      <td>Atlantic</td>\n",
       "      <td>Brunswick</td>\n",
       "      <td>GA</td>\n",
       "      <td>-684.87</td>\n",
       "    </tr>\n",
       "    <tr>\n",
       "      <th>1115</th>\n",
       "      <td>Port Canaveral, FL</td>\n",
       "      <td>2017</td>\n",
       "      <td>3,887.80</td>\n",
       "      <td>4,068.76</td>\n",
       "      <td>Atlantic</td>\n",
       "      <td>Port Canaveral</td>\n",
       "      <td>FL</td>\n",
       "      <td>-180.96</td>\n",
       "    </tr>\n",
       "    <tr>\n",
       "      <th>1121</th>\n",
       "      <td>Portsmouth, NH</td>\n",
       "      <td>2017</td>\n",
       "      <td>1.75</td>\n",
       "      <td>88.00</td>\n",
       "      <td>Atlantic</td>\n",
       "      <td>Portsmouth</td>\n",
       "      <td>NH</td>\n",
       "      <td>-86.25</td>\n",
       "    </tr>\n",
       "    <tr>\n",
       "      <th>1071</th>\n",
       "      <td>Aberdeen, WA</td>\n",
       "      <td>2017</td>\n",
       "      <td>0.00</td>\n",
       "      <td>1.75</td>\n",
       "      <td>Pacific</td>\n",
       "      <td>Aberdeen</td>\n",
       "      <td>WA</td>\n",
       "      <td>-1.75</td>\n",
       "    </tr>\n",
       "  </tbody>\n",
       "</table>\n",
       "</div>"
      ],
      "text/plain": [
       "         U.S. Custom Ports  Year  ImportTons  ExportTons CoastName  \\\n",
       "1103       New Orleans, LA  2017  109,999.90  296,438.87      Gulf   \n",
       "1094      Jacksonville, FL  2017  322,721.35  494,520.91  Atlantic   \n",
       "1131   West Palm Beach, FL  2017   29,075.90  135,279.24  Atlantic   \n",
       "1116   Port Everglades, FL  2017  357,424.80  434,424.07  Atlantic   \n",
       "1133        Wilmington, NC  2017   75,614.11  103,527.15  Atlantic   \n",
       "1110         Pensauken, NJ  2017   16,817.22   44,168.49  Atlantic   \n",
       "1102            Mobile, AL  2017  118,097.04  132,477.64      Gulf   \n",
       "1092          Honolulu, HI  2017   21,493.92   31,990.05    Hawaii   \n",
       "1085  Fernandina Beach, FL  2017      328.27    3,913.32  Atlantic   \n",
       "1087          Freeport, TX  2017   31,140.59   33,848.46      Gulf   \n",
       "1122             Salem, NJ  2017      286.95    1,393.88  Atlantic   \n",
       "1095            Kodiak, AK  2017        0.00    1,002.00    Alaska   \n",
       "1105      Newport News, VA  2017    1,139.59    2,032.51  Atlantic   \n",
       "1079         Brunswick, GA  2017        0.00      684.87  Atlantic   \n",
       "1115    Port Canaveral, FL  2017    3,887.80    4,068.76  Atlantic   \n",
       "1121        Portsmouth, NH  2017        1.75       88.00  Atlantic   \n",
       "1071          Aberdeen, WA  2017        0.00        1.75   Pacific   \n",
       "\n",
       "                  City State  Difference  \n",
       "1103       New Orleans    LA -186,438.97  \n",
       "1094      Jacksonville    FL -171,799.56  \n",
       "1131   West Palm Beach    FL -106,203.34  \n",
       "1116   Port Everglades    FL  -76,999.27  \n",
       "1133        Wilmington    NC  -27,913.04  \n",
       "1110         Pensauken    NJ  -27,351.27  \n",
       "1102            Mobile    AL  -14,380.60  \n",
       "1092          Honolulu    HI  -10,496.13  \n",
       "1085  Fernandina Beach    FL   -3,585.05  \n",
       "1087          Freeport    TX   -2,707.87  \n",
       "1122             Salem    NJ   -1,106.93  \n",
       "1095            Kodiak    AK   -1,002.00  \n",
       "1105      Newport News    VA     -892.92  \n",
       "1079         Brunswick    GA     -684.87  \n",
       "1115    Port Canaveral    FL     -180.96  \n",
       "1121        Portsmouth    NH      -86.25  \n",
       "1071          Aberdeen    WA       -1.75  "
      ]
     },
     "execution_count": 38,
     "metadata": {},
     "output_type": "execute_result"
    }
   ],
   "source": [
    "year2017.sort_values(by=['Difference'], ascending=True).head(17)"
   ]
  },
  {
   "cell_type": "markdown",
   "metadata": {},
   "source": [
    "<div class=\"alert alert-block alert-success\">\n",
    "<b> Problem 7: (6 points) </b> In Module 2 you learned about conditional statements and in Module 3 you learned about loops and user defined functions.<br>\n",
    "\n",
    "- Write a function called <b>BestYears</b> that will accept <b>City</b> and <b>State</b> as arguments. \n",
    "- If the City does not appear in the dataframe, then the function should display the error message <mark>City does not exist</mark>.\n",
    "- If the City appears but not with that State in the combo, then the function should display the error message <mark>Invalid Input</mark>.  \n",
    "- If the City and State combo appears in the dataframe, then the function should display the City, State, Year, ImportTons, ExportTons and Difference sorted by Year with the oldest year showing first.<br>\n",
    "    \n",
    "**Use different cells to test your function with each of the following test cases:**\n",
    "1. Norfolk and VA - this should show output data\n",
    "2. Norfolk and CA - this one should show the error message <mark>Invalid Input</mark>.\n",
    "3. Python and MA - this one should show the error message <mark>City does not exist</mark>.\n",
    "    \n",
    "\n",
    "</div>"
   ]
  },
  {
   "cell_type": "code",
   "execution_count": 58,
   "metadata": {},
   "outputs": [
    {
     "name": "stdout",
     "output_type": "stream",
     "text": [
      "         City State  Year   ImportTons  ExportTons  Difference\n",
      "35    Norfolk    VA  2000   437,522.50  412,877.64   24,644.86\n",
      "98    Norfolk    VA  2001   454,216.30  431,175.96   23,040.34\n",
      "161   Norfolk    VA  2002   551,168.00  430,838.77  120,329.23\n",
      "224   Norfolk    VA  2003   633,455.09  459,751.91  173,703.18\n",
      "287   Norfolk    VA  2004   717,346.35  488,687.22  228,659.13\n",
      "350   Norfolk    VA  2005   780,917.57  543,589.39  237,328.18\n",
      "413   Norfolk    VA  2006   834,197.96  579,727.70  254,470.26\n",
      "476   Norfolk    VA  2007   857,702.55  727,528.43  130,174.12\n",
      "539   Norfolk    VA  2008   811,381.80  783,293.55   28,088.25\n",
      "602   Norfolk    VA  2009   677,798.37  698,141.44  -20,343.07\n",
      "665   Norfolk    VA  2010   721,369.34  713,840.31    7,529.03\n",
      "728   Norfolk    VA  2011   726,910.18  755,703.21  -28,793.03\n",
      "791   Norfolk    VA  2012   817,486.37  829,063.36  -11,576.99\n",
      "854   Norfolk    VA  2013   900,291.90  933,952.89  -33,660.99\n",
      "917   Norfolk    VA  2014   981,188.98  950,356.95   30,832.03\n",
      "980   Norfolk    VA  2015 1,042,137.54  923,240.14  118,897.40\n",
      "1043  Norfolk    VA  2016 1,155,218.83  934,108.10  221,110.73\n",
      "1106  Norfolk    VA  2017 1,233,597.84  955,886.86  277,710.98\n",
      "Invalid Input.\n",
      "City does not exist.\n"
     ]
    }
   ],
   "source": [
    "def BestYears(City, State):\n",
    "    if not City in df[\"City\"].values:\n",
    "        print(\"City does not exist.\")\n",
    "    else:\n",
    "        data = df[(df[\"City\"] == City) & (df[\"State\"] == State)]\n",
    "        if data.empty:\n",
    "            print(\"Invalid Input.\")\n",
    "        else:\n",
    "            data = data[[\"City\", \"State\", \"Year\", \"ImportTons\", \"ExportTons\", \"Difference\"]]\n",
    "            data = data.sort_values(by=\"Year\")\n",
    "            print(data)\n",
    "            \n",
    "BestYears(\"Norfolk\", \" VA\")\n",
    "BestYears(\"Norfolk\", \"CA\")\n",
    "BestYears(\"Python\", \"MA\")"
   ]
  },
  {
   "cell_type": "markdown",
   "metadata": {},
   "source": [
    "<div class=\"alert alert-block alert-success\">\n",
    "<b> Problem 8: (5 points) </b> In Module 6 you learned how to create different types of visuals.  <br>\n",
    "\n",
    "1. Create a visual of your choice to display `ExportTons` for every `Year` for five `ports`: Baltimore, MD, Wilmington, DE, Jacksonville, FL, New Orleans, LA and West Palm Beach, FL.\n",
    "2. Make sure your visual has a title and both an x and y axis label.\n",
    "\n",
    "</div>"
   ]
  },
  {
   "cell_type": "code",
   "execution_count": 69,
   "metadata": {},
   "outputs": [
    {
     "data": {
      "text/plain": [
       "[<matplotlib.lines.Line2D at 0x18c2b147510>]"
      ]
     },
     "execution_count": 69,
     "metadata": {},
     "output_type": "execute_result"
    },
    {
     "data": {
      "text/plain": [
       "[<matplotlib.lines.Line2D at 0x18c2b5250d0>]"
      ]
     },
     "execution_count": 69,
     "metadata": {},
     "output_type": "execute_result"
    },
    {
     "data": {
      "text/plain": [
       "[<matplotlib.lines.Line2D at 0x18c2b54b790>]"
      ]
     },
     "execution_count": 69,
     "metadata": {},
     "output_type": "execute_result"
    },
    {
     "data": {
      "text/plain": [
       "[<matplotlib.lines.Line2D at 0x18c2b558310>]"
      ]
     },
     "execution_count": 69,
     "metadata": {},
     "output_type": "execute_result"
    },
    {
     "data": {
      "text/plain": [
       "[<matplotlib.lines.Line2D at 0x18c2b558e10>]"
      ]
     },
     "execution_count": 69,
     "metadata": {},
     "output_type": "execute_result"
    },
    {
     "data": {
      "text/plain": [
       "Text(0.5, 1.0, 'Export Tons by Year for Five Given Ports')"
      ]
     },
     "execution_count": 69,
     "metadata": {},
     "output_type": "execute_result"
    },
    {
     "data": {
      "text/plain": [
       "Text(0.5, 0, 'Year')"
      ]
     },
     "execution_count": 69,
     "metadata": {},
     "output_type": "execute_result"
    },
    {
     "data": {
      "text/plain": [
       "Text(0, 0.5, 'Export Tons')"
      ]
     },
     "execution_count": 69,
     "metadata": {},
     "output_type": "execute_result"
    },
    {
     "data": {
      "text/plain": [
       "<matplotlib.legend.Legend at 0x18c24e4e410>"
      ]
     },
     "execution_count": 69,
     "metadata": {},
     "output_type": "execute_result"
    },
    {
     "data": {
      "image/png": "[encoded data removed]",
      "text/plain": [
       "<Figure size 800x550 with 1 Axes>"
      ]
     },
     "metadata": {},
     "output_type": "display_data"
    }
   ],
   "source": [
    "import pandas as pd\n",
    "import matplotlib.pyplot as plt\n",
    "import seaborn as sns\n",
    "\n",
    "ports = ['Baltimore, MD', 'Wilmington, DE', 'Jacksonville, FL', 'New Orleans, LA', 'West Palm Beach, FL']\n",
    "df = df[df['U.S. Custom Ports'].isin(ports)]\n",
    "\n",
    "fig, ax = plt.subplots()\n",
    "for port in ports:\n",
    "    port_data = df[df['U.S. Custom Ports'] == port]\n",
    "    ax.plot(port_data['Year'], port_data['ExportTons'], label=port)\n",
    "ax.set_title('Export Tons by Year for Five Given Ports')\n",
    "ax.set_xlabel('Year')\n",
    "ax.set_ylabel('Export Tons')\n",
    "ax.legend()\n",
    "plt.show()"
   ]
  },
  {
   "cell_type": "markdown",
   "metadata": {},
   "source": [
    "<div class=\"alert alert-block alert-success\">\n",
    "<b> Problem 9: (1 point) </b> In a markdown cell, explain what your visual tells you about Jacksonville, FL between 2000 and 2017.\n",
    "\n",
    "\n",
    "</div>"
   ]
  },
  {
   "cell_type": "markdown",
   "metadata": {},
   "source": [
    "In the graph above, Jacksonville, FL is depicted by the red line. Between the years of 2000 and 2017, exports our of Jacksonville increased dramatically. This took place mostly around the year 2012 yet continued to stay high until the end of our data in 2017. "
   ]
  },
  {
   "cell_type": "code",
   "execution_count": null,
   "metadata": {},
   "outputs": [],
   "source": []
  }
 ],
 "metadata": {
  "kernelspec": {
   "display_name": "Python 3 (ipykernel)",
   "language": "python",
   "name": "python3"
  },
  "language_info": {
   "codemirror_mode": {
    "name": "ipython",
    "version": 3
   },
   "file_extension": ".py",
   "mimetype": "text/x-python",
   "name": "python",
   "nbconvert_exporter": "python",
   "pygments_lexer": "ipython3",
   "version": "3.11.4"
  },
  "toc": {
   "base_numbering": 1,
   "nav_menu": {},
   "number_sections": true,
   "sideBar": true,
   "skip_h1_title": false,
   "title_cell": "Table of Contents",
   "title_sidebar": "Contents",
   "toc_cell": false,
   "toc_position": {},
   "toc_section_display": true,
   "toc_window_display": false
  }
 },
 "nbformat": 4,
 "nbformat_minor": 2
}
